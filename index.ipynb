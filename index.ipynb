{
 "cells": [
  {
   "cell_type": "code",
   "execution_count": 26,
   "metadata": {},
   "outputs": [],
   "source": [
    "import pandas as pd\n",
    "import requests\n",
    "import zipfile\n",
    "import io\n",
    "import plotly.graph_objects as go\n",
    "from ipywidgets import widgets\n",
    "from os import path, listdir, rename"
   ]
  },
  {
   "cell_type": "markdown",
   "metadata": {},
   "source": [
    "Get the data from gstatic"
   ]
  },
  {
   "cell_type": "code",
   "execution_count": 27,
   "metadata": {},
   "outputs": [],
   "source": [
    "filename='2020_GB_Region_Mobility_Report.csv'\n",
    "def _get_data():\n",
    "    zip_file_url = 'https://www.gstatic.com/covid19/mobility/Region_Mobility_Report_CSVs.zip'\n",
    "    r = requests.get(zip_file_url)\n",
    "    z = zipfile.ZipFile(io.BytesIO(r.content))\n",
    "    z.extractall(members=[filename])\n",
    "    rename(filename, path.join('src', 'data.csv'))"
   ]
  },
  {
   "cell_type": "code",
   "execution_count": 28,
   "metadata": {},
   "outputs": [],
   "source": [
    "# only run if need to update\n",
    "_get_data()"
   ]
  },
  {
   "cell_type": "markdown",
   "metadata": {},
   "source": [
    "Create data frame, drop any unneeded columns"
   ]
  },
  {
   "cell_type": "code",
   "execution_count": 4,
   "metadata": {},
   "outputs": [
    {
     "output_type": "execute_result",
     "data": {
      "text/plain": [
       "       sub_region_1 sub_region_2        date  \\\n",
       "0               NaN          NaN  2020-02-15   \n",
       "1               NaN          NaN  2020-02-16   \n",
       "2               NaN          NaN  2020-02-17   \n",
       "3               NaN          NaN  2020-02-18   \n",
       "4               NaN          NaN  2020-02-19   \n",
       "...             ...          ...         ...   \n",
       "140483         York          NaN  2021-01-13   \n",
       "140484         York          NaN  2021-01-14   \n",
       "140485         York          NaN  2021-01-15   \n",
       "140486         York          NaN  2021-01-16   \n",
       "140487         York          NaN  2021-01-17   \n",
       "\n",
       "        retail_and_recreation_percent_change_from_baseline  \\\n",
       "0                                                   -12.0    \n",
       "1                                                    -7.0    \n",
       "2                                                    10.0    \n",
       "3                                                     7.0    \n",
       "4                                                     6.0    \n",
       "...                                                   ...    \n",
       "140483                                              -69.0    \n",
       "140484                                              -73.0    \n",
       "140485                                              -73.0    \n",
       "140486                                              -77.0    \n",
       "140487                                              -76.0    \n",
       "\n",
       "        grocery_and_pharmacy_percent_change_from_baseline  \\\n",
       "0                                                    -7.0   \n",
       "1                                                    -6.0   \n",
       "2                                                     1.0   \n",
       "3                                                    -1.0   \n",
       "4                                                    -2.0   \n",
       "...                                                   ...   \n",
       "140483                                              -33.0   \n",
       "140484                                              -37.0   \n",
       "140485                                              -31.0   \n",
       "140486                                              -34.0   \n",
       "140487                                              -34.0   \n",
       "\n",
       "        parks_percent_change_from_baseline  \\\n",
       "0                                    -35.0   \n",
       "1                                    -28.0   \n",
       "2                                     24.0   \n",
       "3                                     20.0   \n",
       "4                                      8.0   \n",
       "...                                    ...   \n",
       "140483                               -53.0   \n",
       "140484                               -54.0   \n",
       "140485                               -56.0   \n",
       "140486                               -63.0   \n",
       "140487                               -40.0   \n",
       "\n",
       "        transit_stations_percent_change_from_baseline  \\\n",
       "0                                               -12.0   \n",
       "1                                                -7.0   \n",
       "2                                                -2.0   \n",
       "3                                                -3.0   \n",
       "4                                                -4.0   \n",
       "...                                               ...   \n",
       "140483                                          -74.0   \n",
       "140484                                          -76.0   \n",
       "140485                                          -74.0   \n",
       "140486                                          -78.0   \n",
       "140487                                          -77.0   \n",
       "\n",
       "        workplaces_percent_change_from_baseline  \\\n",
       "0                                          -4.0   \n",
       "1                                          -3.0   \n",
       "2                                         -14.0   \n",
       "3                                         -14.0   \n",
       "4                                         -14.0   \n",
       "...                                         ...   \n",
       "140483                                    -57.0   \n",
       "140484                                    -60.0   \n",
       "140485                                    -59.0   \n",
       "140486                                    -46.0   \n",
       "140487                                    -41.0   \n",
       "\n",
       "        residential_percent_change_from_baseline  \n",
       "0                                            2.0  \n",
       "1                                            1.0  \n",
       "2                                            2.0  \n",
       "3                                            2.0  \n",
       "4                                            3.0  \n",
       "...                                          ...  \n",
       "140483                                      23.0  \n",
       "140484                                      25.0  \n",
       "140485                                      24.0  \n",
       "140486                                      17.0  \n",
       "140487                                      13.0  \n",
       "\n",
       "[140488 rows x 9 columns]"
      ],
      "text/html": "<div>\n<style scoped>\n    .dataframe tbody tr th:only-of-type {\n        vertical-align: middle;\n    }\n\n    .dataframe tbody tr th {\n        vertical-align: top;\n    }\n\n    .dataframe thead th {\n        text-align: right;\n    }\n</style>\n<table border=\"1\" class=\"dataframe\">\n  <thead>\n    <tr style=\"text-align: right;\">\n      <th></th>\n      <th>sub_region_1</th>\n      <th>sub_region_2</th>\n      <th>date</th>\n      <th>retail_and_recreation_percent_change_from_baseline</th>\n      <th>grocery_and_pharmacy_percent_change_from_baseline</th>\n      <th>parks_percent_change_from_baseline</th>\n      <th>transit_stations_percent_change_from_baseline</th>\n      <th>workplaces_percent_change_from_baseline</th>\n      <th>residential_percent_change_from_baseline</th>\n    </tr>\n  </thead>\n  <tbody>\n    <tr>\n      <th>0</th>\n      <td>NaN</td>\n      <td>NaN</td>\n      <td>2020-02-15</td>\n      <td>-12.0</td>\n      <td>-7.0</td>\n      <td>-35.0</td>\n      <td>-12.0</td>\n      <td>-4.0</td>\n      <td>2.0</td>\n    </tr>\n    <tr>\n      <th>1</th>\n      <td>NaN</td>\n      <td>NaN</td>\n      <td>2020-02-16</td>\n      <td>-7.0</td>\n      <td>-6.0</td>\n      <td>-28.0</td>\n      <td>-7.0</td>\n      <td>-3.0</td>\n      <td>1.0</td>\n    </tr>\n    <tr>\n      <th>2</th>\n      <td>NaN</td>\n      <td>NaN</td>\n      <td>2020-02-17</td>\n      <td>10.0</td>\n      <td>1.0</td>\n      <td>24.0</td>\n      <td>-2.0</td>\n      <td>-14.0</td>\n      <td>2.0</td>\n    </tr>\n    <tr>\n      <th>3</th>\n      <td>NaN</td>\n      <td>NaN</td>\n      <td>2020-02-18</td>\n      <td>7.0</td>\n      <td>-1.0</td>\n      <td>20.0</td>\n      <td>-3.0</td>\n      <td>-14.0</td>\n      <td>2.0</td>\n    </tr>\n    <tr>\n      <th>4</th>\n      <td>NaN</td>\n      <td>NaN</td>\n      <td>2020-02-19</td>\n      <td>6.0</td>\n      <td>-2.0</td>\n      <td>8.0</td>\n      <td>-4.0</td>\n      <td>-14.0</td>\n      <td>3.0</td>\n    </tr>\n    <tr>\n      <th>...</th>\n      <td>...</td>\n      <td>...</td>\n      <td>...</td>\n      <td>...</td>\n      <td>...</td>\n      <td>...</td>\n      <td>...</td>\n      <td>...</td>\n      <td>...</td>\n    </tr>\n    <tr>\n      <th>140483</th>\n      <td>York</td>\n      <td>NaN</td>\n      <td>2021-01-13</td>\n      <td>-69.0</td>\n      <td>-33.0</td>\n      <td>-53.0</td>\n      <td>-74.0</td>\n      <td>-57.0</td>\n      <td>23.0</td>\n    </tr>\n    <tr>\n      <th>140484</th>\n      <td>York</td>\n      <td>NaN</td>\n      <td>2021-01-14</td>\n      <td>-73.0</td>\n      <td>-37.0</td>\n      <td>-54.0</td>\n      <td>-76.0</td>\n      <td>-60.0</td>\n      <td>25.0</td>\n    </tr>\n    <tr>\n      <th>140485</th>\n      <td>York</td>\n      <td>NaN</td>\n      <td>2021-01-15</td>\n      <td>-73.0</td>\n      <td>-31.0</td>\n      <td>-56.0</td>\n      <td>-74.0</td>\n      <td>-59.0</td>\n      <td>24.0</td>\n    </tr>\n    <tr>\n      <th>140486</th>\n      <td>York</td>\n      <td>NaN</td>\n      <td>2021-01-16</td>\n      <td>-77.0</td>\n      <td>-34.0</td>\n      <td>-63.0</td>\n      <td>-78.0</td>\n      <td>-46.0</td>\n      <td>17.0</td>\n    </tr>\n    <tr>\n      <th>140487</th>\n      <td>York</td>\n      <td>NaN</td>\n      <td>2021-01-17</td>\n      <td>-76.0</td>\n      <td>-34.0</td>\n      <td>-40.0</td>\n      <td>-77.0</td>\n      <td>-41.0</td>\n      <td>13.0</td>\n    </tr>\n  </tbody>\n</table>\n<p>140488 rows × 9 columns</p>\n</div>"
     },
     "metadata": {},
     "execution_count": 4
    }
   ],
   "source": [
    "drop_columns=['country_region_code','country_region','metro_area','iso_3166_2_code', 'census_fips_code']\n",
    "df = pd.read_csv(filename).drop(drop_columns, axis=1)\n",
    "df"
   ]
  },
  {
   "cell_type": "markdown",
   "metadata": {},
   "source": [
    "make the widgets"
   ]
  },
  {
   "cell_type": "code",
   "execution_count": 5,
   "metadata": {},
   "outputs": [],
   "source": [
    "chart_options = widgets.Dropdown(\n",
    "    options=list(df.columns[3:]),\n",
    "    value='retail_and_recreation_percent_change_from_baseline',\n",
    "    description='Mobility area'\n",
    ")\n",
    "\n",
    "sub_region_1_options = widgets.Dropdown(\n",
    "    options=list(df['sub_region_1'].unique()),\n",
    "    value='Greater London',\n",
    "    description='Sub region 1',\n",
    ")\n",
    "\n",
    "def _get_sr2_options():\n",
    "    return list(df[df['sub_region_1']==sub_region_1_options.value]['sub_region_2'].unique())\n",
    "\n",
    "sub_region_2_options = widgets.Dropdown(\n",
    "    options=_get_sr2_options(),\n",
    "    value='London Borough of Barnet',\n",
    "    description='Sub region 2',\n",
    ")"
   ]
  },
  {
   "cell_type": "code",
   "execution_count": 6,
   "metadata": {},
   "outputs": [],
   "source": [
    "def get_x_and_y():\n",
    "    filter_list = [i and j for i, j in\n",
    "                    zip(df['sub_region_1'] == sub_region_1_options.value,\n",
    "                        df['sub_region_2'] == sub_region_2_options.value)]\n",
    "    temp_df = df[filter_list]\n",
    "    x = temp_df['date']\n",
    "    y = temp_df[chart_options.value]\n",
    "    return [x, y]"
   ]
  },
  {
   "cell_type": "code",
   "execution_count": 7,
   "metadata": {},
   "outputs": [],
   "source": [
    "def get_title():\n",
    "    return sub_region_2_options.value+ '<br>' + chart_options.value"
   ]
  },
  {
   "cell_type": "code",
   "execution_count": 8,
   "metadata": {},
   "outputs": [],
   "source": [
    "# Assign an empty figure widget\n",
    "x, y = get_x_and_y()\n",
    "trace = go.Scatter(x=x, y=y, name=chart_options.value)\n",
    "g = go.FigureWidget(data=[trace],\n",
    "                    layout=go.Layout(\n",
    "                        title=dict(\n",
    "                            text=get_title(),\n",
    "                            x=0.5\n",
    "                        ),\n",
    "                        yaxis=dict(\n",
    "                            title={'text': chart_options.value}\n",
    "                        )\n",
    "                    ))"
   ]
  },
  {
   "cell_type": "code",
   "execution_count": 9,
   "metadata": {},
   "outputs": [],
   "source": [
    "# write a function that will handle the input from the widgets, and alter the state of the graph.\n",
    "\n",
    "def response(change):\n",
    "    x, y = get_x_and_y()\n",
    "    sub_region_2_options.options=_get_sr2_options()\n",
    "    with g.batch_update():\n",
    "        g.data[0].x = x\n",
    "        g.data[0].y = y\n",
    "        g.layout.title=dict(text=get_title(), x=0.5)\n",
    "        g.layout.yaxis.title = chart_options.value\n",
    "\n",
    "chart_options.observe(response, names=\"value\")\n",
    "sub_region_1_options.observe(response, names=\"value\")\n",
    "sub_region_2_options.observe(response, names=\"value\")"
   ]
  },
  {
   "cell_type": "code",
   "execution_count": 10,
   "metadata": {
    "scrolled": false
   },
   "outputs": [
    {
     "output_type": "display_data",
     "data": {
      "text/plain": "VBox(children=(VBox(children=(Dropdown(description='Mobility area', options=('retail_and_recreation_percent_ch…",
      "application/vnd.jupyter.widget-view+json": {
       "version_major": 2,
       "version_minor": 0,
       "model_id": "14b25872eb8b416e85851e6297d55140"
      }
     },
     "metadata": {}
    }
   ],
   "source": [
    "opts = widgets.VBox([chart_options, sub_region_1_options, sub_region_2_options])\n",
    "widg = widgets.VBox([opts, g])\n",
    "widg"
   ]
  },
  {
   "cell_type": "code",
   "execution_count": 11,
   "metadata": {},
   "outputs": [],
   "source": [
    "# from ipywidgets.embed import embed_minimal_html\n",
    "# embed_minimal_html('index.html', views=[widg], title='Widgets export')"
   ]
  }
 ],
 "metadata": {
  "kernelspec": {
   "display_name": "Python 3",
   "language": "python",
   "name": "python3"
  },
  "language_info": {
   "codemirror_mode": {
    "name": "ipython",
    "version": 3
   },
   "file_extension": ".py",
   "mimetype": "text/x-python",
   "name": "python",
   "nbconvert_exporter": "python",
   "pygments_lexer": "ipython3",
   "version": "3.8.5-final"
  }
 },
 "nbformat": 4,
 "nbformat_minor": 2
}