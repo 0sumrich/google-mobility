{
 "metadata": {
  "language_info": {
   "codemirror_mode": {
    "name": "ipython",
    "version": 3
   },
   "file_extension": ".py",
   "mimetype": "text/x-python",
   "name": "python",
   "nbconvert_exporter": "python",
   "pygments_lexer": "ipython3",
   "version": "3.8.5-final"
  },
  "orig_nbformat": 2,
  "kernelspec": {
   "name": "python3",
   "display_name": "Python 3",
   "language": "python"
  }
 },
 "nbformat": 4,
 "nbformat_minor": 2,
 "cells": [
  {
   "cell_type": "code",
   "execution_count": 1,
   "metadata": {},
   "outputs": [],
   "source": [
    "import pandas as pd\n",
    "import requests\n",
    "import zipfile\n",
    "import io\n",
    "import plotly.graph_objects as go\n",
    "from ipywidgets import widgets"
   ]
  },
  {
   "source": [
    "Get the data from gstatic"
   ],
   "cell_type": "markdown",
   "metadata": {}
  },
  {
   "cell_type": "code",
   "execution_count": 2,
   "metadata": {},
   "outputs": [],
   "source": [
    "filename='2020_GB_Region_Mobility_Report.csv'\n",
    "\n",
    "def _get_data():\n",
    "    zip_file_url = 'https://www.gstatic.com/covid19/mobility/Region_Mobility_Report_CSVs.zip'\n",
    "    r = requests.get(zip_file_url)\n",
    "    z = zipfile.ZipFile(io.BytesIO(r.content))\n",
    "    z.extractall(members=[filename])"
   ]
  },
  {
   "cell_type": "code",
   "execution_count": 3,
   "metadata": {},
   "outputs": [],
   "source": [
    "# only run if need to update\n",
    "# _get_data()"
   ]
  },
  {
   "source": [
    "Create data frame, drop any unneeded columns"
   ],
   "cell_type": "markdown",
   "metadata": {}
  },
  {
   "cell_type": "code",
   "execution_count": 4,
   "metadata": {},
   "outputs": [
    {
     "output_type": "execute_result",
     "data": {
      "text/plain": [
       "       sub_region_1 sub_region_2       date  \\\n",
       "0               NaN          NaN 2020-02-15   \n",
       "1               NaN          NaN 2020-02-16   \n",
       "2               NaN          NaN 2020-02-17   \n",
       "3               NaN          NaN 2020-02-18   \n",
       "4               NaN          NaN 2020-02-19   \n",
       "...             ...          ...        ...   \n",
       "137556         York          NaN 2021-01-06   \n",
       "137557         York          NaN 2021-01-07   \n",
       "137558         York          NaN 2021-01-08   \n",
       "137559         York          NaN 2021-01-09   \n",
       "137560         York          NaN 2021-01-10   \n",
       "\n",
       "        retail_and_recreation_percent_change_from_baseline  \\\n",
       "0                                                   -12.0    \n",
       "1                                                    -7.0    \n",
       "2                                                    10.0    \n",
       "3                                                     7.0    \n",
       "4                                                     6.0    \n",
       "...                                                   ...    \n",
       "137556                                              -68.0    \n",
       "137557                                              -68.0    \n",
       "137558                                              -74.0    \n",
       "137559                                              -76.0    \n",
       "137560                                              -78.0    \n",
       "\n",
       "        grocery_and_pharmacy_percent_change_from_baseline  \\\n",
       "0                                                    -7.0   \n",
       "1                                                    -6.0   \n",
       "2                                                     1.0   \n",
       "3                                                    -1.0   \n",
       "4                                                    -2.0   \n",
       "...                                                   ...   \n",
       "137556                                              -28.0   \n",
       "137557                                              -27.0   \n",
       "137558                                              -31.0   \n",
       "137559                                              -32.0   \n",
       "137560                                              -32.0   \n",
       "\n",
       "        parks_percent_change_from_baseline  \\\n",
       "0                                    -35.0   \n",
       "1                                    -28.0   \n",
       "2                                     24.0   \n",
       "3                                     20.0   \n",
       "4                                      8.0   \n",
       "...                                    ...   \n",
       "137556                               -39.0   \n",
       "137557                               -38.0   \n",
       "137558                               -63.0   \n",
       "137559                               -55.0   \n",
       "137560                               -50.0   \n",
       "\n",
       "        transit_stations_percent_change_from_baseline  \\\n",
       "0                                               -12.0   \n",
       "1                                                -7.0   \n",
       "2                                                -2.0   \n",
       "3                                                -3.0   \n",
       "4                                                -4.0   \n",
       "...                                               ...   \n",
       "137556                                          -70.0   \n",
       "137557                                          -73.0   \n",
       "137558                                          -73.0   \n",
       "137559                                          -76.0   \n",
       "137560                                          -77.0   \n",
       "\n",
       "        workplaces_percent_change_from_baseline  \\\n",
       "0                                          -4.0   \n",
       "1                                          -3.0   \n",
       "2                                         -14.0   \n",
       "3                                         -14.0   \n",
       "4                                         -14.0   \n",
       "...                                         ...   \n",
       "137556                                    -55.0   \n",
       "137557                                    -57.0   \n",
       "137558                                    -56.0   \n",
       "137559                                    -41.0   \n",
       "137560                                    -43.0   \n",
       "\n",
       "        residential_percent_change_from_baseline  \n",
       "0                                            2.0  \n",
       "1                                            1.0  \n",
       "2                                            2.0  \n",
       "3                                            2.0  \n",
       "4                                            3.0  \n",
       "...                                          ...  \n",
       "137556                                      23.0  \n",
       "137557                                      23.0  \n",
       "137558                                      25.0  \n",
       "137559                                      17.0  \n",
       "137560                                      14.0  \n",
       "\n",
       "[137561 rows x 9 columns]"
      ],
      "text/html": "<div>\n<style scoped>\n    .dataframe tbody tr th:only-of-type {\n        vertical-align: middle;\n    }\n\n    .dataframe tbody tr th {\n        vertical-align: top;\n    }\n\n    .dataframe thead th {\n        text-align: right;\n    }\n</style>\n<table border=\"1\" class=\"dataframe\">\n  <thead>\n    <tr style=\"text-align: right;\">\n      <th></th>\n      <th>sub_region_1</th>\n      <th>sub_region_2</th>\n      <th>date</th>\n      <th>retail_and_recreation_percent_change_from_baseline</th>\n      <th>grocery_and_pharmacy_percent_change_from_baseline</th>\n      <th>parks_percent_change_from_baseline</th>\n      <th>transit_stations_percent_change_from_baseline</th>\n      <th>workplaces_percent_change_from_baseline</th>\n      <th>residential_percent_change_from_baseline</th>\n    </tr>\n  </thead>\n  <tbody>\n    <tr>\n      <th>0</th>\n      <td>NaN</td>\n      <td>NaN</td>\n      <td>2020-02-15</td>\n      <td>-12.0</td>\n      <td>-7.0</td>\n      <td>-35.0</td>\n      <td>-12.0</td>\n      <td>-4.0</td>\n      <td>2.0</td>\n    </tr>\n    <tr>\n      <th>1</th>\n      <td>NaN</td>\n      <td>NaN</td>\n      <td>2020-02-16</td>\n      <td>-7.0</td>\n      <td>-6.0</td>\n      <td>-28.0</td>\n      <td>-7.0</td>\n      <td>-3.0</td>\n      <td>1.0</td>\n    </tr>\n    <tr>\n      <th>2</th>\n      <td>NaN</td>\n      <td>NaN</td>\n      <td>2020-02-17</td>\n      <td>10.0</td>\n      <td>1.0</td>\n      <td>24.0</td>\n      <td>-2.0</td>\n      <td>-14.0</td>\n      <td>2.0</td>\n    </tr>\n    <tr>\n      <th>3</th>\n      <td>NaN</td>\n      <td>NaN</td>\n      <td>2020-02-18</td>\n      <td>7.0</td>\n      <td>-1.0</td>\n      <td>20.0</td>\n      <td>-3.0</td>\n      <td>-14.0</td>\n      <td>2.0</td>\n    </tr>\n    <tr>\n      <th>4</th>\n      <td>NaN</td>\n      <td>NaN</td>\n      <td>2020-02-19</td>\n      <td>6.0</td>\n      <td>-2.0</td>\n      <td>8.0</td>\n      <td>-4.0</td>\n      <td>-14.0</td>\n      <td>3.0</td>\n    </tr>\n    <tr>\n      <th>...</th>\n      <td>...</td>\n      <td>...</td>\n      <td>...</td>\n      <td>...</td>\n      <td>...</td>\n      <td>...</td>\n      <td>...</td>\n      <td>...</td>\n      <td>...</td>\n    </tr>\n    <tr>\n      <th>137556</th>\n      <td>York</td>\n      <td>NaN</td>\n      <td>2021-01-06</td>\n      <td>-68.0</td>\n      <td>-28.0</td>\n      <td>-39.0</td>\n      <td>-70.0</td>\n      <td>-55.0</td>\n      <td>23.0</td>\n    </tr>\n    <tr>\n      <th>137557</th>\n      <td>York</td>\n      <td>NaN</td>\n      <td>2021-01-07</td>\n      <td>-68.0</td>\n      <td>-27.0</td>\n      <td>-38.0</td>\n      <td>-73.0</td>\n      <td>-57.0</td>\n      <td>23.0</td>\n    </tr>\n    <tr>\n      <th>137558</th>\n      <td>York</td>\n      <td>NaN</td>\n      <td>2021-01-08</td>\n      <td>-74.0</td>\n      <td>-31.0</td>\n      <td>-63.0</td>\n      <td>-73.0</td>\n      <td>-56.0</td>\n      <td>25.0</td>\n    </tr>\n    <tr>\n      <th>137559</th>\n      <td>York</td>\n      <td>NaN</td>\n      <td>2021-01-09</td>\n      <td>-76.0</td>\n      <td>-32.0</td>\n      <td>-55.0</td>\n      <td>-76.0</td>\n      <td>-41.0</td>\n      <td>17.0</td>\n    </tr>\n    <tr>\n      <th>137560</th>\n      <td>York</td>\n      <td>NaN</td>\n      <td>2021-01-10</td>\n      <td>-78.0</td>\n      <td>-32.0</td>\n      <td>-50.0</td>\n      <td>-77.0</td>\n      <td>-43.0</td>\n      <td>14.0</td>\n    </tr>\n  </tbody>\n</table>\n<p>137561 rows × 9 columns</p>\n</div>"
     },
     "metadata": {},
     "execution_count": 4
    }
   ],
   "source": [
    "drop_columns=['country_region_code','country_region','metro_area','iso_3166_2_code', 'census_fips_code']\n",
    "df = pd.read_csv(filename, parse_dates=['date']).drop(drop_columns, axis=1)\n",
    "df"
   ]
  },
  {
   "source": [
    "make the widgets"
   ],
   "cell_type": "markdown",
   "metadata": {}
  },
  {
   "cell_type": "code",
   "execution_count": 5,
   "metadata": {},
   "outputs": [],
   "source": [
    "chart_options = widgets.Dropdown(\n",
    "    options=list(df.columns[3:]),\n",
    "    value='retail_and_recreation_percent_change_from_baseline',\n",
    "    description='Mobility area'\n",
    ")\n",
    "\n",
    "sub_region_1_options = widgets.Dropdown(\n",
    "    options=list(df['sub_region_1'].unique()),\n",
    "    value='Greater London',\n",
    "    description='Sub region 1',\n",
    ")\n",
    "\n",
    "sub_region_2_options = widgets.Dropdown(\n",
    "    options=list(df['sub_region_2'].unique()),\n",
    "    value='London Borough of Barnet',\n",
    "    description='Sub region 2',\n",
    ")"
   ]
  },
  {
   "cell_type": "code",
   "execution_count": 6,
   "metadata": {},
   "outputs": [],
   "source": [
    "def get_x_and_y():\n",
    "    filter_list = [i and j for i, j in\n",
    "                    zip(df['sub_region_1'] == sub_region_1_options.value,\n",
    "                        df['sub_region_2'] == sub_region_2_options.value)]\n",
    "    temp_df = df[filter_list]\n",
    "    x = temp_df['date']\n",
    "    y = temp_df[chart_options.value]\n",
    "    return [x, y]"
   ]
  },
  {
   "cell_type": "code",
   "execution_count": 7,
   "metadata": {},
   "outputs": [],
   "source": [
    "# Assign an empty figure widget\n",
    "x, y = get_x_and_y()\n",
    "trace = go.Scatter(x=x, y=y, name=chart_options.value)\n",
    "g = go.FigureWidget(data=[trace],\n",
    "                    layout=go.Layout(\n",
    "                        title=dict(\n",
    "                            text=sub_region_2_options.value+ '<br>' + chart_options.value,\n",
    "                            x=0.5\n",
    "                        ),\n",
    "                        yaxis=dict(\n",
    "                            title={'text': chart_options.value}\n",
    "                        )\n",
    "                    ))"
   ]
  },
  {
   "cell_type": "code",
   "execution_count": 8,
   "metadata": {},
   "outputs": [],
   "source": [
    "# write a function that will handle the input from the widgets, and alter the state of the graph.\n",
    "\n",
    "def response(change):\n",
    "    x, y = get_x_and_y()\n",
    "    with g.batch_update():\n",
    "        g.data[0].x = x\n",
    "        g.data[0].y = y\n",
    "        g.title_text=sub_region_2_options.value\n",
    "        g.layout.yaxis.title = chart_options.value\n",
    "\n",
    "\n",
    "chart_options.observe(response, names=\"value\")\n",
    "sub_region_1_options.observe(response, names=\"value\")\n",
    "sub_region_2_options.observe(response, names=\"value\")"
   ]
  },
  {
   "cell_type": "code",
   "execution_count": 9,
   "metadata": {},
   "outputs": [
    {
     "output_type": "display_data",
     "data": {
      "text/plain": "VBox(children=(VBox(children=(Dropdown(description='Mobility area', options=('retail_and_recreation_percent_ch…",
      "application/vnd.jupyter.widget-view+json": {
       "version_major": 2,
       "version_minor": 0,
       "model_id": "2f20212d17ac4043966442f3a96852e6"
      }
     },
     "metadata": {}
    }
   ],
   "source": [
    "opts = widgets.VBox([chart_options, sub_region_1_options, sub_region_2_options])\n",
    "widg = widgets.VBox([opts, g])\n",
    "widg"
   ]
  }
 ]
}